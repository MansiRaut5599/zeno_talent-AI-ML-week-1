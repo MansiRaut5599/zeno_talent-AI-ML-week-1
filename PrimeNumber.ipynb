{
 "cells": [
  {
   "cell_type": "code",
   "execution_count": 1,
   "id": "eab8f248-1c99-493e-95b4-dba3c4d17b82",
   "metadata": {},
   "outputs": [
    {
     "name": "stdin",
     "output_type": "stream",
     "text": [
      "Enter the start of the range (positive integer):  10 50\n"
     ]
    },
    {
     "name": "stdout",
     "output_type": "stream",
     "text": [
      "Error: Invalid input. Please enter integers only.\n"
     ]
    },
    {
     "name": "stdin",
     "output_type": "stream",
     "text": [
      "Enter the start of the range (positive integer):  5\n",
      "Enter the end of the range (positive integer):  10\n"
     ]
    },
    {
     "name": "stdout",
     "output_type": "stream",
     "text": [
      "\n",
      "Prime numbers in the given range:\n",
      "    5     7 \n"
     ]
    }
   ],
   "source": [
    "def is_prime(n):\n",
    "    \"\"\"Check if a number is prime.\"\"\"\n",
    "    if n < 2:\n",
    "        return False\n",
    "    for i in range(2, int(n ** 0.5) + 1):\n",
    "        if n % i == 0:\n",
    "            return False\n",
    "    return True\n",
    "\n",
    "def get_input():\n",
    "    \"\"\"Prompt user for input and validate it.\"\"\"\n",
    "    while True:\n",
    "        try:\n",
    "            start = int(input(\"Enter the start of the range (positive integer): \"))\n",
    "            end = int(input(\"Enter the end of the range (positive integer): \"))\n",
    "            if start > 0 and end > 0 and start <= end:\n",
    "                return start, end\n",
    "            else:\n",
    "                print(\"Error: Please enter two positive integers with start <= end.\")\n",
    "        except ValueError:\n",
    "            print(\"Error: Invalid input. Please enter integers only.\")\n",
    "\n",
    "def find_primes(start, end):\n",
    "    \"\"\"Find all prime numbers in the given range.\"\"\"\n",
    "    return [n for n in range(start, end + 1) if is_prime(n)]\n",
    "\n",
    "def display_primes(primes):\n",
    "    \"\"\"Display prime numbers in a formatted way (10 per line).\"\"\"\n",
    "    print(\"\\nPrime numbers in the given range:\")\n",
    "    for i in range(len(primes)):\n",
    "        print(f\"{primes[i]:>5}\", end=\" \")\n",
    "        if (i + 1) % 10 == 0:\n",
    "            print()\n",
    "    print()  # Final newline\n",
    "\n",
    "def main():\n",
    "    start, end = get_input()\n",
    "    primes = find_primes(start, end)\n",
    "    display_primes(primes)\n",
    "\n",
    "if __name__ == \"__main__\":\n",
    "    main()"
   ]
  },
  {
   "cell_type": "code",
   "execution_count": null,
   "id": "6fb4ccf7-82d9-414d-8032-d603b8894210",
   "metadata": {},
   "outputs": [],
   "source": []
  }
 ],
 "metadata": {
  "kernelspec": {
   "display_name": "Python 3 (ipykernel)",
   "language": "python",
   "name": "python3"
  },
  "language_info": {
   "codemirror_mode": {
    "name": "ipython",
    "version": 3
   },
   "file_extension": ".py",
   "mimetype": "text/x-python",
   "name": "python",
   "nbconvert_exporter": "python",
   "pygments_lexer": "ipython3",
   "version": "3.13.5"
  }
 },
 "nbformat": 4,
 "nbformat_minor": 5
}
