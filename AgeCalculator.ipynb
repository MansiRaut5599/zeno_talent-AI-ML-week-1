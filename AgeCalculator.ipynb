{
 "cells": [
  {
   "cell_type": "code",
   "execution_count": 4,
   "id": "81153ede-f0da-4a11-b3e5-2c9b0e9225a4",
   "metadata": {},
   "outputs": [
    {
     "name": "stdin",
     "output_type": "stream",
     "text": [
      "Enter birth day (1-31):  12\n",
      "Enter birth month (1-12):  08\n",
      "Enter birth year (YYYY):  2003\n"
     ]
    },
    {
     "name": "stdout",
     "output_type": "stream",
     "text": [
      "You are 21 years old.\n"
     ]
    }
   ],
   "source": [
    "from datetime import date\n",
    "\n",
    "def calculate_age( birth_day, birth_month,birth_year):\n",
    "    \"\"\"\n",
    "    Calculates the age in years based on a given birth date.\n",
    "\n",
    "    Args:\n",
    "        birth_day (int): The birth day (1-31).\n",
    "        birth_month (int): The birth month (1-12).\n",
    "        birth_year (int): The birth year.\n",
    "\n",
    "    Returns:\n",
    "        int: The calculated age in years.\n",
    "    \"\"\"\n",
    "    today = date.today()\n",
    "    birthdate = date(birth_day, birth_month,birth_year)\n",
    "\n",
    "    age = today.year - birthdate.year\n",
    "\n",
    "    # Adjust age if the current year's birthday hasn't occurred yet\n",
    "    if (today.month, today.day) < (birthdate.month, birthdate.day):\n",
    "        age -= 1\n",
    "    return age\n",
    "\n",
    "if __name__ == \"__main__\":\n",
    "    try:\n",
    "        day = int(input(\"Enter birth day (1-31): \"))\n",
    "        month = int(input(\"Enter birth month (1-12): \"))\n",
    "        year = int(input(\"Enter birth year (YYYY): \"))\n",
    "\n",
    "        age = calculate_age(year, month, day)\n",
    "        print(f\"You are {age} years old.\")\n",
    "\n",
    "    except ValueError:\n",
    "        print(\"Invalid input. Please enter valid numbers for year, month, and day.\")\n",
    "    except Exception as e:\n",
    "        print(f\"An error occurred: {e}\")"
   ]
  },
  {
   "cell_type": "code",
   "execution_count": null,
   "id": "ac3ee2fc-4ade-4384-af1e-8b6881c0b14a",
   "metadata": {},
   "outputs": [],
   "source": []
  }
 ],
 "metadata": {
  "kernelspec": {
   "display_name": "Python 3 (ipykernel)",
   "language": "python",
   "name": "python3"
  },
  "language_info": {
   "codemirror_mode": {
    "name": "ipython",
    "version": 3
   },
   "file_extension": ".py",
   "mimetype": "text/x-python",
   "name": "python",
   "nbconvert_exporter": "python",
   "pygments_lexer": "ipython3",
   "version": "3.13.5"
  }
 },
 "nbformat": 4,
 "nbformat_minor": 5
}
